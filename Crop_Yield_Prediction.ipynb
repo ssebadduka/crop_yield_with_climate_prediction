{
  "metadata": {
    "kernelspec": {
      "language": "python",
      "display_name": "Python 3",
      "name": "python3"
    },
    "language_info": {
      "pygments_lexer": "ipython3",
      "nbconvert_exporter": "python",
      "version": "3.6.4",
      "file_extension": ".py",
      "codemirror_mode": {
        "name": "ipython",
        "version": 3
      },
      "name": "python",
      "mimetype": "text/x-python"
    },
    "kaggle": {
      "accelerator": "none",
      "dataSources": [
        {
          "sourceId": 2874008,
          "sourceType": "datasetVersion",
          "datasetId": 1760177
        }
      ],
      "dockerImageVersionId": 30152,
      "isInternetEnabled": false,
      "language": "python",
      "sourceType": "notebook",
      "isGpuEnabled": false
    },
    "colab": {
      "name": "Crop Yield Prediction",
      "provenance": [],
      "include_colab_link": true
    }
  },
  "nbformat_minor": 0,
  "nbformat": 4,
  "cells": [
    {
      "cell_type": "markdown",
      "metadata": {
        "id": "view-in-github",
        "colab_type": "text"
      },
      "source": [
        "<a href=\"https://colab.research.google.com/github/ssebadduka/crop_yield_with_climate_prediction/blob/main/Crop_Yield_Prediction.ipynb\" target=\"_parent\"><img src=\"https://colab.research.google.com/assets/colab-badge.svg\" alt=\"Open In Colab\"/></a>"
      ]
    },
    {
      "source": [
        "\n",
        "# IMPORTANT: RUN THIS CELL IN ORDER TO IMPORT YOUR KAGGLE DATA SOURCES\n",
        "# TO THE CORRECT LOCATION (/kaggle/input) IN YOUR NOTEBOOK,\n",
        "# THEN FEEL FREE TO DELETE THIS CELL.\n",
        "# NOTE: THIS NOTEBOOK ENVIRONMENT DIFFERS FROM KAGGLE'S PYTHON\n",
        "# ENVIRONMENT SO THERE MAY BE MISSING LIBRARIES USED BY YOUR\n",
        "# NOTEBOOK.\n",
        "\n",
        "import os\n",
        "import sys\n",
        "from tempfile import NamedTemporaryFile\n",
        "from urllib.request import urlopen\n",
        "from urllib.parse import unquote, urlparse\n",
        "from urllib.error import HTTPError\n",
        "from zipfile import ZipFile\n",
        "import tarfile\n",
        "import shutil\n",
        "\n",
        "CHUNK_SIZE = 40960\n",
        "DATA_SOURCE_MAPPING = 'crop-yield-prediction-dataset:https%3A%2F%2Fstorage.googleapis.com%2Fkaggle-data-sets%2F1760177%2F2874008%2Fbundle%2Farchive.zip%3FX-Goog-Algorithm%3DGOOG4-RSA-SHA256%26X-Goog-Credential%3Dgcp-kaggle-com%2540kaggle-161607.iam.gserviceaccount.com%252F20240806%252Fauto%252Fstorage%252Fgoog4_request%26X-Goog-Date%3D20240806T101101Z%26X-Goog-Expires%3D259200%26X-Goog-SignedHeaders%3Dhost%26X-Goog-Signature%3D46e9e724869fa76429b99a1d0d902f9e08745af09ccb746445db4db417adad5fc2879198116e19572e0524e87e4522dfd1bb0ddbcf5ba35b65658688be8e234ba2e528691703b707f6240ee4bf696d750f8ab4f3d272195d9ef5440192def0de3d76fb9593c79181ed9f9cd83e409a86f369260f0f9b98e8bb5a4d7b90d5cc8669ba9ddd8d20bf5594acaa7bd2045001a91d623ff0ca8ac3a2a19280ff72c2bf1e66fc8ad7f50109d4705ee2f4ddbf7e5ead2e563d8edc3ba8763eb4743afaedbce3a7496875ca610cb02731d6338fa156ecd420c392af07ae344a0556f717e76bd98cc47c7cd8e693e1fbc31923c55c4ed77ef5fc44a5b3968778eabaee2be3'\n",
        "\n",
        "KAGGLE_INPUT_PATH='/kaggle/input'\n",
        "KAGGLE_WORKING_PATH='/kaggle/working'\n",
        "KAGGLE_SYMLINK='kaggle'\n",
        "\n",
        "!umount /kaggle/input/ 2> /dev/null\n",
        "shutil.rmtree('/kaggle/input', ignore_errors=True)\n",
        "os.makedirs(KAGGLE_INPUT_PATH, 0o777, exist_ok=True)\n",
        "os.makedirs(KAGGLE_WORKING_PATH, 0o777, exist_ok=True)\n",
        "\n",
        "try:\n",
        "  os.symlink(KAGGLE_INPUT_PATH, os.path.join(\"..\", 'input'), target_is_directory=True)\n",
        "except FileExistsError:\n",
        "  pass\n",
        "try:\n",
        "  os.symlink(KAGGLE_WORKING_PATH, os.path.join(\"..\", 'working'), target_is_directory=True)\n",
        "except FileExistsError:\n",
        "  pass\n",
        "\n",
        "for data_source_mapping in DATA_SOURCE_MAPPING.split(','):\n",
        "    directory, download_url_encoded = data_source_mapping.split(':')\n",
        "    download_url = unquote(download_url_encoded)\n",
        "    filename = urlparse(download_url).path\n",
        "    destination_path = os.path.join(KAGGLE_INPUT_PATH, directory)\n",
        "    try:\n",
        "        with urlopen(download_url) as fileres, NamedTemporaryFile() as tfile:\n",
        "            total_length = fileres.headers['content-length']\n",
        "            print(f'Downloading {directory}, {total_length} bytes compressed')\n",
        "            dl = 0\n",
        "            data = fileres.read(CHUNK_SIZE)\n",
        "            while len(data) > 0:\n",
        "                dl += len(data)\n",
        "                tfile.write(data)\n",
        "                done = int(50 * dl / int(total_length))\n",
        "                sys.stdout.write(f\"\\r[{'=' * done}{' ' * (50-done)}] {dl} bytes downloaded\")\n",
        "                sys.stdout.flush()\n",
        "                data = fileres.read(CHUNK_SIZE)\n",
        "            if filename.endswith('.zip'):\n",
        "              with ZipFile(tfile) as zfile:\n",
        "                zfile.extractall(destination_path)\n",
        "            else:\n",
        "              with tarfile.open(tfile.name) as tarfile:\n",
        "                tarfile.extractall(destination_path)\n",
        "            print(f'\\nDownloaded and uncompressed: {directory}')\n",
        "    except HTTPError as e:\n",
        "        print(f'Failed to load (likely expired) {download_url} to path {destination_path}')\n",
        "        continue\n",
        "    except OSError as e:\n",
        "        print(f'Failed to load {download_url} to path {destination_path}')\n",
        "        continue\n",
        "\n",
        "print('Data source import complete.')\n"
      ],
      "metadata": {
        "id": "GgiYVbxGUK4o"
      },
      "cell_type": "code",
      "outputs": [],
      "execution_count": null
    },
    {
      "cell_type": "markdown",
      "source": [
        "# Crop Yield Prediction\n",
        "\n",
        "The science of training machines to learn and produce models for future predictions is widely used, and not for nothing.\n",
        "Agriculture plays a critical role in the global economy. With the continuing expansion of the human population understanding worldwide crop yield is central to addressing food security challenges and reducing the impacts of climate change.\n",
        "\n",
        "Crop yield prediction is an important agricultural problem. The Agricultural yield primarily depends on <i><b>weather conditions (rain, temperature, etc)</b></i>, pesticides and accurate information about history of crop yield is an important thing for making decisions related to agricultural risk management and future predictions.  The basic ingredients that sustain humans are similar. We eat a lot of corn, wheat, rice and other simple crops. In this paper the prediction of <b>top 10 most consumed yields all over the world</b> is established by applying machine learning techniques. It consist of 10 most consumed crops. It is a regression problem\n",
        "\n",
        " These corps include :\n",
        "\n",
        "- Cassava                \n",
        "- Maize                  \n",
        "- Plantains and others   \n",
        "- Potatoes                \n",
        "- Rice, paddy             \n",
        "- Sorghum                \n",
        "- Soybeans               \n",
        "- Sweet potatoes       \n",
        "- Wheat                  \n",
        "- Yams             "
      ],
      "metadata": {
        "id": "TdBIPUgkUK4u"
      }
    },
    {
      "cell_type": "markdown",
      "source": [
        "# Gathering & Cleaning Data\n",
        "\n",
        "### Crops Yield Data:\n",
        "\n",
        "\n",
        "\n",
        "After importing required libraries, crops yield of ten most consumed crops around the world was downloaded from FAO webiste.The collected data include country, item, year starting from 1961 to 2016 and yield value."
      ],
      "metadata": {
        "id": "Y0_pbrx-UK4x"
      }
    },
    {
      "cell_type": "code",
      "source": [
        "import numpy as np\n",
        "import pandas as pd"
      ],
      "metadata": {
        "trusted": true,
        "id": "uPTzRVyVUK4y"
      },
      "execution_count": null,
      "outputs": []
    },
    {
      "cell_type": "code",
      "source": [
        "df_yield = pd.read_csv('../input/crop-yield-prediction-dataset/yield.csv')\n",
        "df_yield.shape"
      ],
      "metadata": {
        "execution": {
          "iopub.status.busy": "2022-04-18T18:46:45.994992Z",
          "iopub.execute_input": "2022-04-18T18:46:45.995386Z",
          "iopub.status.idle": "2022-04-18T18:46:46.211358Z",
          "shell.execute_reply.started": "2022-04-18T18:46:45.995348Z",
          "shell.execute_reply": "2022-04-18T18:46:46.210269Z"
        },
        "trusted": true,
        "id": "V6IajvATUK40"
      },
      "execution_count": null,
      "outputs": []
    },
    {
      "cell_type": "code",
      "source": [
        "df_yield.head()"
      ],
      "metadata": {
        "scrolled": true,
        "execution": {
          "iopub.status.busy": "2022-04-18T18:46:48.558648Z",
          "iopub.execute_input": "2022-04-18T18:46:48.559288Z",
          "iopub.status.idle": "2022-04-18T18:46:48.596599Z",
          "shell.execute_reply.started": "2022-04-18T18:46:48.559223Z",
          "shell.execute_reply": "2022-04-18T18:46:48.595751Z"
        },
        "trusted": true,
        "id": "oniPc4I6UK41"
      },
      "execution_count": null,
      "outputs": []
    },
    {
      "cell_type": "code",
      "source": [
        "df_yield.tail(10)"
      ],
      "metadata": {
        "scrolled": true,
        "execution": {
          "iopub.status.busy": "2022-04-18T18:46:50.847255Z",
          "iopub.execute_input": "2022-04-18T18:46:50.847657Z",
          "iopub.status.idle": "2022-04-18T18:46:50.867933Z",
          "shell.execute_reply.started": "2022-04-18T18:46:50.847614Z",
          "shell.execute_reply": "2022-04-18T18:46:50.866963Z"
        },
        "trusted": true,
        "id": "abxBd6BFUK42"
      },
      "execution_count": null,
      "outputs": []
    },
    {
      "cell_type": "markdown",
      "source": [
        "Looking at the columns in the csv, we can rename **Value** to **hg/ha_yield** to make it easier to recognise that this is our crops yields production value. In addition to removal of unnecessary coloumns like Area Code, Domain, Item Code, etc."
      ],
      "metadata": {
        "id": "rdIS47ohUK43"
      }
    },
    {
      "cell_type": "code",
      "source": [
        "# rename columns.\n",
        "df_yield = df_yield.rename(index=str, columns={\"Value\": \"hg/ha_yield\"})\n",
        "df_yield.head()"
      ],
      "metadata": {
        "scrolled": true,
        "execution": {
          "iopub.status.busy": "2022-04-18T18:46:53.628052Z",
          "iopub.execute_input": "2022-04-18T18:46:53.628817Z",
          "iopub.status.idle": "2022-04-18T18:46:53.683794Z",
          "shell.execute_reply.started": "2022-04-18T18:46:53.628764Z",
          "shell.execute_reply": "2022-04-18T18:46:53.683007Z"
        },
        "trusted": true,
        "id": "Tuzn6TAKUK43"
      },
      "execution_count": null,
      "outputs": []
    },
    {
      "cell_type": "code",
      "source": [
        "# drop unwanted columns.\n",
        "df_yield = df_yield.drop(['Year Code','Element Code','Element','Year Code','Area Code','Domain Code','Domain','Unit','Item Code'], axis=1)\n",
        "df_yield.head()"
      ],
      "metadata": {
        "execution": {
          "iopub.status.busy": "2022-04-18T18:46:56.600961Z",
          "iopub.execute_input": "2022-04-18T18:46:56.601932Z",
          "iopub.status.idle": "2022-04-18T18:46:56.622401Z",
          "shell.execute_reply.started": "2022-04-18T18:46:56.601866Z",
          "shell.execute_reply": "2022-04-18T18:46:56.621701Z"
        },
        "trusted": true,
        "id": "qnWJb7UwUK44"
      },
      "execution_count": null,
      "outputs": []
    },
    {
      "cell_type": "code",
      "source": [
        "df_yield.describe()"
      ],
      "metadata": {
        "scrolled": true,
        "execution": {
          "iopub.status.busy": "2022-04-18T18:47:00.292642Z",
          "iopub.execute_input": "2022-04-18T18:47:00.293316Z",
          "iopub.status.idle": "2022-04-18T18:47:00.330923Z",
          "shell.execute_reply.started": "2022-04-18T18:47:00.293265Z",
          "shell.execute_reply": "2022-04-18T18:47:00.330009Z"
        },
        "trusted": true,
        "id": "U6d0okX3UK45"
      },
      "execution_count": null,
      "outputs": []
    },
    {
      "cell_type": "code",
      "source": [
        "df_yield.info()"
      ],
      "metadata": {
        "execution": {
          "iopub.status.busy": "2022-04-18T18:47:06.229774Z",
          "iopub.execute_input": "2022-04-18T18:47:06.230522Z",
          "iopub.status.idle": "2022-04-18T18:47:06.266678Z",
          "shell.execute_reply.started": "2022-04-18T18:47:06.230458Z",
          "shell.execute_reply": "2022-04-18T18:47:06.265579Z"
        },
        "trusted": true,
        "id": "orHoVcjfUK47"
      },
      "execution_count": null,
      "outputs": []
    },
    {
      "cell_type": "markdown",
      "source": [
        "### Climate Data : Rainfall\n",
        "The climatic factors include rainfall and temperature. They are abiotic components, including pesticides and soil, of the environmental factors that influence plant growth and development.\n",
        "\n",
        "\n",
        "Rainfall has a dramatic effect on agriculture. For this project rain fall per year information was gathered from World Data Bank."
      ],
      "metadata": {
        "id": "y0COIBelUK48"
      }
    },
    {
      "cell_type": "code",
      "source": [
        "df_rain = pd.read_csv('../input/crop-yield-prediction-dataset/rainfall.csv')\n",
        "df_rain.head()"
      ],
      "metadata": {
        "scrolled": true,
        "execution": {
          "iopub.status.busy": "2022-04-18T18:47:11.615593Z",
          "iopub.execute_input": "2022-04-18T18:47:11.615982Z",
          "iopub.status.idle": "2022-04-18T18:47:11.647854Z",
          "shell.execute_reply.started": "2022-04-18T18:47:11.615933Z",
          "shell.execute_reply": "2022-04-18T18:47:11.647081Z"
        },
        "trusted": true,
        "id": "yGvYiOqiUK49"
      },
      "execution_count": null,
      "outputs": []
    },
    {
      "cell_type": "code",
      "source": [
        "df_rain.tail()"
      ],
      "metadata": {
        "execution": {
          "iopub.status.busy": "2022-04-18T18:47:43.185924Z",
          "iopub.execute_input": "2022-04-18T18:47:43.186476Z",
          "iopub.status.idle": "2022-04-18T18:47:43.197146Z",
          "shell.execute_reply.started": "2022-04-18T18:47:43.186431Z",
          "shell.execute_reply": "2022-04-18T18:47:43.19639Z"
        },
        "trusted": true,
        "id": "ZbZUL7tgUK4-"
      },
      "execution_count": null,
      "outputs": []
    },
    {
      "cell_type": "code",
      "source": [
        "df_rain = df_rain.rename(index=str, columns={\" Area\": 'Area'})"
      ],
      "metadata": {
        "execution": {
          "iopub.status.busy": "2022-04-18T18:47:53.960524Z",
          "iopub.execute_input": "2022-04-18T18:47:53.960969Z",
          "iopub.status.idle": "2022-04-18T18:47:53.96958Z",
          "shell.execute_reply.started": "2022-04-18T18:47:53.960938Z",
          "shell.execute_reply": "2022-04-18T18:47:53.968696Z"
        },
        "trusted": true,
        "id": "enWZZ13PUK4_"
      },
      "execution_count": null,
      "outputs": []
    },
    {
      "cell_type": "markdown",
      "source": [
        "Checking for the datatypes"
      ],
      "metadata": {
        "id": "C_QvkVfcUK5A"
      }
    },
    {
      "cell_type": "code",
      "source": [
        "df_rain.info()"
      ],
      "metadata": {
        "scrolled": true,
        "execution": {
          "iopub.status.busy": "2022-04-18T18:47:59.96662Z",
          "iopub.execute_input": "2022-04-18T18:47:59.966975Z",
          "iopub.status.idle": "2022-04-18T18:47:59.985058Z",
          "shell.execute_reply.started": "2022-04-18T18:47:59.966938Z",
          "shell.execute_reply": "2022-04-18T18:47:59.984023Z"
        },
        "trusted": true,
        "id": "_JuJNm3OUK5A"
      },
      "execution_count": null,
      "outputs": []
    },
    {
      "cell_type": "markdown",
      "source": [
        "convert average_rain_fall_mm_per_year from object to float"
      ],
      "metadata": {
        "id": "TxTFq52FUK5B"
      }
    },
    {
      "cell_type": "code",
      "source": [
        "df_rain['average_rain_fall_mm_per_year'] = pd.to_numeric(df_rain['average_rain_fall_mm_per_year'],errors = 'coerce')\n",
        "df_rain.info()"
      ],
      "metadata": {
        "scrolled": true,
        "execution": {
          "iopub.status.busy": "2022-04-18T18:48:37.914824Z",
          "iopub.execute_input": "2022-04-18T18:48:37.91532Z",
          "iopub.status.idle": "2022-04-18T18:48:37.940239Z",
          "shell.execute_reply.started": "2022-04-18T18:48:37.915257Z",
          "shell.execute_reply": "2022-04-18T18:48:37.938773Z"
        },
        "trusted": true,
        "id": "uuboUWcDUK5B"
      },
      "execution_count": null,
      "outputs": []
    },
    {
      "cell_type": "markdown",
      "source": [
        "Next, droping any empty rows from dataset and merge yield dataframe with rain dataframe by year and area columns"
      ],
      "metadata": {
        "id": "-i0zCUmkUK5C"
      }
    },
    {
      "cell_type": "code",
      "source": [
        "df_rain = df_rain.dropna()"
      ],
      "metadata": {
        "execution": {
          "iopub.status.busy": "2022-04-18T18:48:56.76028Z",
          "iopub.execute_input": "2022-04-18T18:48:56.760861Z",
          "iopub.status.idle": "2022-04-18T18:48:56.774643Z",
          "shell.execute_reply.started": "2022-04-18T18:48:56.76081Z",
          "shell.execute_reply": "2022-04-18T18:48:56.773574Z"
        },
        "trusted": true,
        "id": "gK711-p5UK5C"
      },
      "execution_count": null,
      "outputs": []
    },
    {
      "cell_type": "code",
      "source": [
        "df_rain.describe()"
      ],
      "metadata": {
        "scrolled": true,
        "execution": {
          "iopub.status.busy": "2022-04-18T18:49:15.556862Z",
          "iopub.execute_input": "2022-04-18T18:49:15.557341Z",
          "iopub.status.idle": "2022-04-18T18:49:15.581272Z",
          "shell.execute_reply.started": "2022-04-18T18:49:15.557301Z",
          "shell.execute_reply": "2022-04-18T18:49:15.580219Z"
        },
        "trusted": true,
        "id": "wSy5XxwpUK5D"
      },
      "execution_count": null,
      "outputs": []
    },
    {
      "cell_type": "markdown",
      "source": [
        "The rainfall dataframe begins at 1985 and ends at 2016."
      ],
      "metadata": {
        "id": "TZtThKQ1UK5D"
      }
    },
    {
      "cell_type": "markdown",
      "source": [
        "Merge Yield Dataframe with rain Dataframe by year and area columns"
      ],
      "metadata": {
        "id": "9ws9iwPeUK5D"
      }
    },
    {
      "cell_type": "code",
      "source": [
        "yield_df = pd.merge(df_yield, df_rain, on=['Year','Area'])"
      ],
      "metadata": {
        "execution": {
          "iopub.status.busy": "2022-04-18T18:50:02.554337Z",
          "iopub.execute_input": "2022-04-18T18:50:02.554975Z",
          "iopub.status.idle": "2022-04-18T18:50:02.590676Z",
          "shell.execute_reply.started": "2022-04-18T18:50:02.554899Z",
          "shell.execute_reply": "2022-04-18T18:50:02.589827Z"
        },
        "trusted": true,
        "id": "zA-VUkk0UK5E"
      },
      "execution_count": null,
      "outputs": []
    },
    {
      "cell_type": "code",
      "source": [
        "yield_df.head()"
      ],
      "metadata": {
        "scrolled": true,
        "execution": {
          "iopub.status.busy": "2022-04-18T18:50:29.047665Z",
          "iopub.execute_input": "2022-04-18T18:50:29.048825Z",
          "iopub.status.idle": "2022-04-18T18:50:29.063016Z",
          "shell.execute_reply.started": "2022-04-18T18:50:29.048773Z",
          "shell.execute_reply": "2022-04-18T18:50:29.062078Z"
        },
        "trusted": true,
        "id": "W0VtGpFCUK5E"
      },
      "execution_count": null,
      "outputs": []
    },
    {
      "cell_type": "markdown",
      "source": [
        "We can see that now the years start from the first yield dataframe the starting year was 1961, now it's 1985 because that's when the rainfall data begins."
      ],
      "metadata": {
        "id": "W2bVqB2uUK5F"
      }
    },
    {
      "cell_type": "code",
      "source": [
        "yield_df.describe()"
      ],
      "metadata": {
        "scrolled": true,
        "execution": {
          "iopub.status.busy": "2022-04-18T18:50:35.365631Z",
          "iopub.execute_input": "2022-04-18T18:50:35.366528Z",
          "iopub.status.idle": "2022-04-18T18:50:35.391432Z",
          "shell.execute_reply.started": "2022-04-18T18:50:35.366488Z",
          "shell.execute_reply": "2022-04-18T18:50:35.39071Z"
        },
        "trusted": true,
        "id": "tFg1Q3iQUK5F"
      },
      "execution_count": null,
      "outputs": []
    },
    {
      "cell_type": "markdown",
      "source": [
        "### Pesticides Data:\n",
        "Pesticides used for each item and country was also collected from FAO database.  "
      ],
      "metadata": {
        "id": "in7t1t70UK5F"
      }
    },
    {
      "cell_type": "code",
      "source": [
        "df_pes = pd.read_csv('../input/crop-yield-prediction-dataset/pesticides.csv')\n",
        "df_pes.head()"
      ],
      "metadata": {
        "execution": {
          "iopub.status.busy": "2022-04-18T18:50:38.093922Z",
          "iopub.execute_input": "2022-04-18T18:50:38.094702Z",
          "iopub.status.idle": "2022-04-18T18:50:38.135124Z",
          "shell.execute_reply.started": "2022-04-18T18:50:38.094652Z",
          "shell.execute_reply": "2022-04-18T18:50:38.134485Z"
        },
        "trusted": true,
        "id": "0qpXHYy8UK5G"
      },
      "execution_count": null,
      "outputs": []
    },
    {
      "cell_type": "code",
      "source": [
        "df_pes = df_pes.rename(index=str, columns={\"Value\": \"pesticides_tonnes\"})\n",
        "df_pes = df_pes.drop(['Element','Domain','Unit','Item'], axis=1)\n",
        "df_pes.head()"
      ],
      "metadata": {
        "execution": {
          "iopub.status.busy": "2022-04-18T18:50:40.46915Z",
          "iopub.execute_input": "2022-04-18T18:50:40.469731Z",
          "iopub.status.idle": "2022-04-18T18:50:40.487363Z",
          "shell.execute_reply.started": "2022-04-18T18:50:40.469681Z",
          "shell.execute_reply": "2022-04-18T18:50:40.486532Z"
        },
        "trusted": true,
        "id": "95HHUJseUK5H"
      },
      "execution_count": null,
      "outputs": []
    },
    {
      "cell_type": "code",
      "source": [
        "df_pes.describe()"
      ],
      "metadata": {
        "scrolled": true,
        "execution": {
          "iopub.status.busy": "2022-04-18T18:50:42.987878Z",
          "iopub.execute_input": "2022-04-18T18:50:42.988538Z",
          "iopub.status.idle": "2022-04-18T18:50:43.008813Z",
          "shell.execute_reply.started": "2022-04-18T18:50:42.988505Z",
          "shell.execute_reply": "2022-04-18T18:50:43.00813Z"
        },
        "trusted": true,
        "id": "b-QCM465UK5H"
      },
      "execution_count": null,
      "outputs": []
    },
    {
      "cell_type": "code",
      "source": [
        "df_pes.info()"
      ],
      "metadata": {
        "execution": {
          "iopub.status.busy": "2022-04-18T18:50:49.931044Z",
          "iopub.execute_input": "2022-04-18T18:50:49.931971Z",
          "iopub.status.idle": "2022-04-18T18:50:49.949702Z",
          "shell.execute_reply.started": "2022-04-18T18:50:49.931918Z",
          "shell.execute_reply": "2022-04-18T18:50:49.948439Z"
        },
        "trusted": true,
        "id": "0YCuN0FPUK5I"
      },
      "execution_count": null,
      "outputs": []
    },
    {
      "cell_type": "markdown",
      "source": [
        "Merge Pesticides dataframe with yield dataframe"
      ],
      "metadata": {
        "id": "yMv1rEpzUK5I"
      }
    },
    {
      "cell_type": "code",
      "source": [
        "yield_df = pd.merge(yield_df, df_pes, on=['Year','Area'])\n",
        "yield_df.shape"
      ],
      "metadata": {
        "execution": {
          "iopub.status.busy": "2022-04-18T18:51:15.335863Z",
          "iopub.execute_input": "2022-04-18T18:51:15.336709Z",
          "iopub.status.idle": "2022-04-18T18:51:15.352975Z",
          "shell.execute_reply.started": "2022-04-18T18:51:15.336665Z",
          "shell.execute_reply": "2022-04-18T18:51:15.352061Z"
        },
        "trusted": true,
        "id": "d15RCBJbUK5J"
      },
      "execution_count": null,
      "outputs": []
    },
    {
      "cell_type": "code",
      "source": [
        "yield_df.head()"
      ],
      "metadata": {
        "scrolled": true,
        "execution": {
          "iopub.status.busy": "2022-04-18T18:51:17.710135Z",
          "iopub.execute_input": "2022-04-18T18:51:17.710953Z",
          "iopub.status.idle": "2022-04-18T18:51:17.726093Z",
          "shell.execute_reply.started": "2022-04-18T18:51:17.710906Z",
          "shell.execute_reply": "2022-04-18T18:51:17.725075Z"
        },
        "trusted": true,
        "id": "bKF4CMYoUK5J"
      },
      "execution_count": null,
      "outputs": []
    },
    {
      "cell_type": "markdown",
      "source": [
        "### Average Temprature:\n",
        "\n",
        "Average Temprature for each country was colleced from World Bank Data."
      ],
      "metadata": {
        "id": "S3odDOLHUK5J"
      }
    },
    {
      "cell_type": "code",
      "source": [
        "avg_temp=  pd.read_csv('../input/crop-yield-prediction-dataset/temp.csv')"
      ],
      "metadata": {
        "execution": {
          "iopub.status.busy": "2022-04-18T18:51:20.276928Z",
          "iopub.execute_input": "2022-04-18T18:51:20.277729Z",
          "iopub.status.idle": "2022-04-18T18:51:20.338685Z",
          "shell.execute_reply.started": "2022-04-18T18:51:20.277691Z",
          "shell.execute_reply": "2022-04-18T18:51:20.337871Z"
        },
        "trusted": true,
        "id": "1n1LNSEAUK5K"
      },
      "execution_count": null,
      "outputs": []
    },
    {
      "cell_type": "code",
      "source": [
        "avg_temp.head()"
      ],
      "metadata": {
        "scrolled": true,
        "execution": {
          "iopub.status.busy": "2022-04-18T18:51:24.632847Z",
          "iopub.execute_input": "2022-04-18T18:51:24.633498Z",
          "iopub.status.idle": "2022-04-18T18:51:24.645622Z",
          "shell.execute_reply.started": "2022-04-18T18:51:24.633452Z",
          "shell.execute_reply": "2022-04-18T18:51:24.644974Z"
        },
        "trusted": true,
        "id": "SKs_uFdDUK5W"
      },
      "execution_count": null,
      "outputs": []
    },
    {
      "cell_type": "code",
      "source": [
        "avg_temp.describe()"
      ],
      "metadata": {
        "scrolled": true,
        "execution": {
          "iopub.status.busy": "2022-04-18T18:51:28.158295Z",
          "iopub.execute_input": "2022-04-18T18:51:28.158592Z",
          "iopub.status.idle": "2022-04-18T18:51:28.184169Z",
          "shell.execute_reply.started": "2022-04-18T18:51:28.158562Z",
          "shell.execute_reply": "2022-04-18T18:51:28.183212Z"
        },
        "trusted": true,
        "id": "SGQFfuJaUK5X"
      },
      "execution_count": null,
      "outputs": []
    },
    {
      "cell_type": "markdown",
      "source": [
        "So average temprature starts from 1743 and ends at 2013, with some empty rows that we have to drop."
      ],
      "metadata": {
        "id": "jA6U2l2oUK5X"
      }
    },
    {
      "cell_type": "code",
      "source": [
        "avg_temp = avg_temp.rename(index=str, columns={\"year\": \"Year\", \"country\":'Area'})\n",
        "avg_temp.head()"
      ],
      "metadata": {
        "scrolled": true,
        "execution": {
          "iopub.status.busy": "2022-04-18T18:51:34.976904Z",
          "iopub.execute_input": "2022-04-18T18:51:34.977284Z",
          "iopub.status.idle": "2022-04-18T18:51:35.022527Z",
          "shell.execute_reply.started": "2022-04-18T18:51:34.977244Z",
          "shell.execute_reply": "2022-04-18T18:51:35.021404Z"
        },
        "trusted": true,
        "id": "vmPUukfVUK5Y"
      },
      "execution_count": null,
      "outputs": []
    },
    {
      "cell_type": "code",
      "source": [
        "yield_df = pd.merge(yield_df,avg_temp, on=['Area','Year'])\n",
        "yield_df.head()"
      ],
      "metadata": {
        "scrolled": true,
        "execution": {
          "iopub.status.busy": "2022-04-18T18:51:37.796382Z",
          "iopub.execute_input": "2022-04-18T18:51:37.796752Z",
          "iopub.status.idle": "2022-04-18T18:51:37.836549Z",
          "shell.execute_reply.started": "2022-04-18T18:51:37.796712Z",
          "shell.execute_reply": "2022-04-18T18:51:37.835761Z"
        },
        "trusted": true,
        "id": "BYlSmRftUK5Y"
      },
      "execution_count": null,
      "outputs": []
    },
    {
      "cell_type": "code",
      "source": [
        "yield_df.shape"
      ],
      "metadata": {
        "execution": {
          "iopub.status.busy": "2022-04-18T18:51:40.62576Z",
          "iopub.execute_input": "2022-04-18T18:51:40.626691Z",
          "iopub.status.idle": "2022-04-18T18:51:40.633669Z",
          "shell.execute_reply.started": "2022-04-18T18:51:40.626638Z",
          "shell.execute_reply": "2022-04-18T18:51:40.63293Z"
        },
        "trusted": true,
        "id": "ozXbi4I4UK5Z"
      },
      "execution_count": null,
      "outputs": []
    },
    {
      "cell_type": "code",
      "source": [
        "yield_df.describe()"
      ],
      "metadata": {
        "execution": {
          "iopub.status.busy": "2022-04-18T18:51:43.10033Z",
          "iopub.execute_input": "2022-04-18T18:51:43.10094Z",
          "iopub.status.idle": "2022-04-18T18:51:43.137842Z",
          "shell.execute_reply.started": "2022-04-18T18:51:43.10089Z",
          "shell.execute_reply": "2022-04-18T18:51:43.136703Z"
        },
        "trusted": true,
        "id": "miB-w8VQUK5Z"
      },
      "execution_count": null,
      "outputs": []
    },
    {
      "cell_type": "code",
      "source": [
        "yield_df.isnull().sum()"
      ],
      "metadata": {
        "scrolled": true,
        "execution": {
          "iopub.status.busy": "2022-04-18T18:51:45.838588Z",
          "iopub.execute_input": "2022-04-18T18:51:45.839189Z",
          "iopub.status.idle": "2022-04-18T18:51:45.864437Z",
          "shell.execute_reply.started": "2022-04-18T18:51:45.839099Z",
          "shell.execute_reply": "2022-04-18T18:51:45.862089Z"
        },
        "trusted": true,
        "id": "rmIEuYlfUK5a"
      },
      "execution_count": null,
      "outputs": []
    },
    {
      "cell_type": "markdown",
      "source": [
        "Great, no empty values!"
      ],
      "metadata": {
        "id": "ZHDBe3cmUK5a"
      }
    },
    {
      "cell_type": "markdown",
      "source": [
        "# Data Exploration\n",
        "\n"
      ],
      "metadata": {
        "id": "jVWdjMWiUK5b"
      }
    },
    {
      "cell_type": "markdown",
      "source": [
        "**yield_df** is the final obtained dataframe;"
      ],
      "metadata": {
        "id": "InEALwqIUK5b"
      }
    },
    {
      "cell_type": "code",
      "source": [
        "yield_df.groupby('Item').count()"
      ],
      "metadata": {
        "scrolled": true,
        "execution": {
          "iopub.status.busy": "2022-04-18T18:51:54.133064Z",
          "iopub.execute_input": "2022-04-18T18:51:54.13342Z",
          "iopub.status.idle": "2022-04-18T18:51:54.160458Z",
          "shell.execute_reply.started": "2022-04-18T18:51:54.133387Z",
          "shell.execute_reply": "2022-04-18T18:51:54.159267Z"
        },
        "trusted": true,
        "id": "evqOPEu6UK5b"
      },
      "execution_count": null,
      "outputs": []
    },
    {
      "cell_type": "code",
      "source": [
        "yield_df.describe()"
      ],
      "metadata": {
        "execution": {
          "iopub.status.busy": "2022-04-18T18:51:57.495111Z",
          "iopub.execute_input": "2022-04-18T18:51:57.495794Z",
          "iopub.status.idle": "2022-04-18T18:51:57.526788Z",
          "shell.execute_reply.started": "2022-04-18T18:51:57.495744Z",
          "shell.execute_reply": "2022-04-18T18:51:57.526168Z"
        },
        "trusted": true,
        "id": "-g_wg7ihUK5c"
      },
      "execution_count": null,
      "outputs": []
    },
    {
      "cell_type": "markdown",
      "source": [
        "It can be noticed the high variance in the values for each columns, later on I'll account for that will scaling."
      ],
      "metadata": {
        "id": "7wlujq3hUK5c"
      }
    },
    {
      "cell_type": "code",
      "source": [
        "yield_df['Area'].nunique()"
      ],
      "metadata": {
        "execution": {
          "iopub.status.busy": "2022-04-18T18:52:00.671143Z",
          "iopub.execute_input": "2022-04-18T18:52:00.672196Z",
          "iopub.status.idle": "2022-04-18T18:52:00.682688Z",
          "shell.execute_reply.started": "2022-04-18T18:52:00.672127Z",
          "shell.execute_reply": "2022-04-18T18:52:00.681514Z"
        },
        "trusted": true,
        "id": "CMXqOP52UK5d"
      },
      "execution_count": null,
      "outputs": []
    },
    {
      "cell_type": "markdown",
      "source": [
        "The dataframe has 101 Countries, ordering these by 10 the highest yield production:"
      ],
      "metadata": {
        "id": "a9s-kR51UK5e"
      }
    },
    {
      "cell_type": "code",
      "source": [
        "yield_df.groupby(['Area'],sort=True)['hg/ha_yield'].sum().nlargest(10)"
      ],
      "metadata": {
        "scrolled": true,
        "execution": {
          "iopub.status.busy": "2022-04-18T18:52:02.510409Z",
          "iopub.execute_input": "2022-04-18T18:52:02.511294Z",
          "iopub.status.idle": "2022-04-18T18:52:02.528655Z",
          "shell.execute_reply.started": "2022-04-18T18:52:02.51124Z",
          "shell.execute_reply": "2022-04-18T18:52:02.527703Z"
        },
        "trusted": true,
        "id": "MfGav_GDUK5e"
      },
      "execution_count": null,
      "outputs": []
    },
    {
      "cell_type": "markdown",
      "source": [
        "India has the highest yield production in the dataset. Inclusing items in the groupby:"
      ],
      "metadata": {
        "id": "zXGuN10sUK5f"
      }
    },
    {
      "cell_type": "code",
      "source": [
        "yield_df.groupby(['Item','Area'],sort=True)['hg/ha_yield'].sum().nlargest(10)"
      ],
      "metadata": {
        "scrolled": true,
        "execution": {
          "iopub.status.busy": "2022-04-18T18:52:04.651381Z",
          "iopub.execute_input": "2022-04-18T18:52:04.651979Z",
          "iopub.status.idle": "2022-04-18T18:52:04.673802Z",
          "shell.execute_reply.started": "2022-04-18T18:52:04.65194Z",
          "shell.execute_reply": "2022-04-18T18:52:04.672669Z"
        },
        "trusted": true,
        "id": "zm1FK-NpUK5f"
      },
      "execution_count": null,
      "outputs": []
    },
    {
      "cell_type": "markdown",
      "source": [
        "India is the highest for production of cassava and potatoes. Potatoes seems to be the dominated crop in the dataset, being the highest in 4 countries."
      ],
      "metadata": {
        "id": "tKkpFkwJUK5g"
      }
    },
    {
      "cell_type": "markdown",
      "source": [
        "The final dataframe starts from 1990 and ends in 2013, that's 23 years worth of data for 101 countries."
      ],
      "metadata": {
        "id": "BVTTKTb3UK5g"
      }
    },
    {
      "cell_type": "markdown",
      "source": [
        "Now, exploring the relationships between the colunms of the dataframe, a good way to quickly check correlations among columns is by visualizing the correlation matrix as a heatmap."
      ],
      "metadata": {
        "id": "5RKMdQv3UK5g"
      }
    },
    {
      "cell_type": "code",
      "source": [
        "import sklearn\n",
        "import seaborn as sns\n",
        "import matplotlib.pyplot as plt"
      ],
      "metadata": {
        "execution": {
          "iopub.status.busy": "2022-04-18T18:52:06.98665Z",
          "iopub.execute_input": "2022-04-18T18:52:06.98705Z",
          "iopub.status.idle": "2022-04-18T18:52:08.494091Z",
          "shell.execute_reply.started": "2022-04-18T18:52:06.987011Z",
          "shell.execute_reply": "2022-04-18T18:52:08.493251Z"
        },
        "trusted": true,
        "id": "m1co1qNMUK5h"
      },
      "execution_count": null,
      "outputs": []
    },
    {
      "cell_type": "code",
      "source": [
        "correlation_data=yield_df.select_dtypes(include=[np.number]).corr()\n",
        "\n",
        "mask = np.zeros_like(correlation_data, dtype=np.bool)\n",
        "mask[np.triu_indices_from(mask)] = True\n",
        "\n",
        "f, ax = plt.subplots(figsize=(11, 9))\n",
        "\n",
        "# Generate a custom diverging colormap\n",
        "cmap = sns.palette=\"vlag\"\n",
        "\n",
        "# Draw the heatmap with the mask and correct aspect ratio\n",
        "sns.heatmap(correlation_data, mask=mask, cmap=cmap, vmax=.3, center=0,\n",
        "            square=True, linewidths=.5, cbar_kws={\"shrink\": .5});"
      ],
      "metadata": {
        "execution": {
          "iopub.status.busy": "2022-04-18T18:52:09.552776Z",
          "iopub.execute_input": "2022-04-18T18:52:09.553097Z",
          "iopub.status.idle": "2022-04-18T18:52:09.972671Z",
          "shell.execute_reply.started": "2022-04-18T18:52:09.553061Z",
          "shell.execute_reply": "2022-04-18T18:52:09.971614Z"
        },
        "trusted": true,
        "id": "LsJUPmoyUK5h"
      },
      "execution_count": null,
      "outputs": []
    },
    {
      "cell_type": "markdown",
      "source": [
        "It can be seen from the above correlation map that there is no correlation between any of the colmuns in the dataframe."
      ],
      "metadata": {
        "id": "4w9_lF3uUK5i"
      }
    },
    {
      "cell_type": "markdown",
      "source": [
        "# Data Preprocessing"
      ],
      "metadata": {
        "id": "6_5bqIyuUK5i"
      }
    },
    {
      "cell_type": "markdown",
      "source": [
        "Data Preprocessing is a technique that is used to convert the raw data into a clean data set. In other words, whenever the data is gathered from different sources it is collected in raw format which is not feasible for the analysis.  \n",
        "\n",
        "\n"
      ],
      "metadata": {
        "id": "L3N7IKWaUK5j"
      }
    },
    {
      "cell_type": "code",
      "source": [
        "yield_df.head()"
      ],
      "metadata": {
        "scrolled": true,
        "execution": {
          "iopub.status.busy": "2022-04-18T18:52:15.524012Z",
          "iopub.execute_input": "2022-04-18T18:52:15.524394Z",
          "iopub.status.idle": "2022-04-18T18:52:15.542558Z",
          "shell.execute_reply.started": "2022-04-18T18:52:15.524358Z",
          "shell.execute_reply": "2022-04-18T18:52:15.541613Z"
        },
        "trusted": true,
        "id": "zjfP2SMDUK5j"
      },
      "execution_count": null,
      "outputs": []
    },
    {
      "cell_type": "markdown",
      "source": [
        "### Encoding Categorical Variables:\n",
        "There are two categorical columns in the dataframe, categorical data are variables that contain label values rather than numeric values. The number of possible values is often limited to a fixed set, like in this case, items and countries values.\n",
        "Many machine learning algorithms cannot operate on label data directly. They require all input variables and output variables to be numeric.\n",
        "\n",
        "This means that categorical data must be converted to a numerical form. One hot encoding is a process by which categorical variables are converted into a form that could be provided to ML algorithms to do a better job in prediction. For that purpose, One-Hot Encoding will be used to convert these two columns to one-hot numeric array.\n",
        "\n",
        "The categorical value represents the numerical value of the entry in the dataset. This encoding will create a binary column for each category and returns a matrix with the results.\n"
      ],
      "metadata": {
        "id": "g3Rhn16EUK5k"
      }
    },
    {
      "cell_type": "code",
      "source": [
        "from sklearn.preprocessing import OneHotEncoder"
      ],
      "metadata": {
        "trusted": true,
        "id": "Erqz8XjsUK5k"
      },
      "execution_count": null,
      "outputs": []
    },
    {
      "cell_type": "code",
      "source": [
        "yield_df_onehot = pd.get_dummies(yield_df, columns=['Area',\"Item\"], prefix = ['Country',\"Item\"])\n",
        "features=yield_df_onehot.loc[:, yield_df_onehot.columns != 'hg/ha_yield']\n",
        "label=yield_df['hg/ha_yield']\n",
        "features.head()"
      ],
      "metadata": {
        "execution": {
          "iopub.status.busy": "2022-04-18T18:52:20.82273Z",
          "iopub.execute_input": "2022-04-18T18:52:20.824095Z",
          "iopub.status.idle": "2022-04-18T18:52:20.893802Z",
          "shell.execute_reply.started": "2022-04-18T18:52:20.824016Z",
          "shell.execute_reply": "2022-04-18T18:52:20.892523Z"
        },
        "trusted": true,
        "id": "qB9zhF6PUK5l"
      },
      "execution_count": null,
      "outputs": []
    },
    {
      "cell_type": "code",
      "source": [
        "features = features.drop(['Year'], axis=1)"
      ],
      "metadata": {
        "execution": {
          "iopub.status.busy": "2022-04-18T18:52:23.265034Z",
          "iopub.execute_input": "2022-04-18T18:52:23.265456Z",
          "iopub.status.idle": "2022-04-18T18:52:23.278513Z",
          "shell.execute_reply.started": "2022-04-18T18:52:23.265413Z",
          "shell.execute_reply": "2022-04-18T18:52:23.277591Z"
        },
        "trusted": true,
        "id": "RrT7mUS2UK5l"
      },
      "execution_count": null,
      "outputs": []
    },
    {
      "cell_type": "code",
      "source": [
        "features.info()"
      ],
      "metadata": {
        "scrolled": true,
        "execution": {
          "iopub.status.busy": "2022-04-18T18:52:25.11013Z",
          "iopub.execute_input": "2022-04-18T18:52:25.110525Z",
          "iopub.status.idle": "2022-04-18T18:52:25.131612Z",
          "shell.execute_reply.started": "2022-04-18T18:52:25.110487Z",
          "shell.execute_reply": "2022-04-18T18:52:25.130431Z"
        },
        "trusted": true,
        "id": "43Crm4DoUK5m"
      },
      "execution_count": null,
      "outputs": []
    },
    {
      "cell_type": "code",
      "source": [
        "features.head()"
      ],
      "metadata": {
        "scrolled": true,
        "execution": {
          "iopub.status.busy": "2022-04-18T18:52:27.125356Z",
          "iopub.execute_input": "2022-04-18T18:52:27.125739Z",
          "iopub.status.idle": "2022-04-18T18:52:27.148713Z",
          "shell.execute_reply.started": "2022-04-18T18:52:27.125696Z",
          "shell.execute_reply": "2022-04-18T18:52:27.147556Z"
        },
        "trusted": true,
        "id": "DqU4BsBAUK5m"
      },
      "execution_count": null,
      "outputs": []
    },
    {
      "cell_type": "markdown",
      "source": [
        "\n",
        "### Scaling Features:\n",
        "\n",
        "Taking a look at the dataset above, it contains features highly varying in magnitudes, units and range. The features with high magnitudes will weigh in a lot more in the distance calculations than features with low magnitudes.\n",
        "\n",
        "To supress this effect, we need to bring all features to the same level of magnitudes. This can be acheived by scaling."
      ],
      "metadata": {
        "id": "kbvA9zfRUK5n"
      }
    },
    {
      "cell_type": "code",
      "source": [
        "from sklearn.preprocessing import MinMaxScaler\n",
        "scaler=MinMaxScaler()\n",
        "features=scaler.fit_transform(features)"
      ],
      "metadata": {
        "execution": {
          "iopub.status.busy": "2022-04-18T18:52:29.591036Z",
          "iopub.execute_input": "2022-04-18T18:52:29.591411Z",
          "iopub.status.idle": "2022-04-18T18:52:29.703711Z",
          "shell.execute_reply.started": "2022-04-18T18:52:29.591373Z",
          "shell.execute_reply": "2022-04-18T18:52:29.702522Z"
        },
        "trusted": true,
        "id": "bCfMLF_CUK5o"
      },
      "execution_count": null,
      "outputs": []
    },
    {
      "cell_type": "markdown",
      "source": [
        "After dropping year column in addition to scaling all values in features, the resulting array will look something like this :"
      ],
      "metadata": {
        "id": "bGiKfqdFUK5o"
      }
    },
    {
      "cell_type": "code",
      "source": [
        "features"
      ],
      "metadata": {
        "execution": {
          "iopub.status.busy": "2022-04-18T18:52:32.18775Z",
          "iopub.execute_input": "2022-04-18T18:52:32.188093Z",
          "iopub.status.idle": "2022-04-18T18:52:32.19656Z",
          "shell.execute_reply.started": "2022-04-18T18:52:32.188049Z",
          "shell.execute_reply": "2022-04-18T18:52:32.195529Z"
        },
        "trusted": true,
        "id": "laYpUsgZUK5p"
      },
      "execution_count": null,
      "outputs": []
    },
    {
      "cell_type": "markdown",
      "source": [
        "## Training Data:\n",
        "\n",
        "The dataset will be split to two datasets, the training dataset and test dataset. The data is usually tend to be split inequality because training the model usually requires as much data-points as possible.The common splits are 70/30 or 80/20 for train/test.\n",
        "\n",
        "The training dataset is the intial dataset used to train ML algorithm to learn and produce right predictions. (70% of dataset is training dataset)\n",
        "\n",
        "The test dataset, however, is used to assess how well ML algorithm is trained with the training dataset. You can’t simply reuse the training dataset in the testing stage because ML algorithm will already “know” the expected output, which defeats the purpose of testing the algorithm. (30% of dataset is testing dataset)\n",
        "\n"
      ],
      "metadata": {
        "id": "erqG7PgVUK5p"
      }
    },
    {
      "cell_type": "code",
      "source": [
        "from sklearn.model_selection import train_test_split\n",
        "train_data, test_data, train_labels, test_labels = train_test_split(features, label, test_size=0.2, random_state=42)"
      ],
      "metadata": {
        "execution": {
          "iopub.status.busy": "2022-04-18T18:52:34.698047Z",
          "iopub.execute_input": "2022-04-18T18:52:34.698355Z",
          "iopub.status.idle": "2022-04-18T18:52:34.790297Z",
          "shell.execute_reply.started": "2022-04-18T18:52:34.698323Z",
          "shell.execute_reply": "2022-04-18T18:52:34.789331Z"
        },
        "trusted": true,
        "id": "EvYnKMmXUK5r"
      },
      "execution_count": null,
      "outputs": []
    },
    {
      "cell_type": "code",
      "source": [
        "#write final df to csv file\n",
        "#yield_df.to_csv('../input/crop-yield-prediction-dataset/yield_df.csv')"
      ],
      "metadata": {
        "trusted": true,
        "id": "cWuaYou9UK5s"
      },
      "execution_count": null,
      "outputs": []
    },
    {
      "cell_type": "code",
      "source": [
        "from sklearn.model_selection import train_test_split\n",
        "train_data, test_data, train_labels, test_labels = train_test_split(features, label, test_size=0.2, random_state=42)"
      ],
      "metadata": {
        "execution": {
          "iopub.status.busy": "2022-04-18T18:52:37.015149Z",
          "iopub.execute_input": "2022-04-18T18:52:37.015492Z",
          "iopub.status.idle": "2022-04-18T18:52:37.104403Z",
          "shell.execute_reply.started": "2022-04-18T18:52:37.015461Z",
          "shell.execute_reply": "2022-04-18T18:52:37.103264Z"
        },
        "trusted": true,
        "id": "xWK6e8CCUK5s"
      },
      "execution_count": null,
      "outputs": []
    },
    {
      "cell_type": "markdown",
      "source": [
        "# Model Comparison & Selection\n"
      ],
      "metadata": {
        "id": "5Rylh2VSUK5t"
      }
    },
    {
      "cell_type": "code",
      "source": [
        "# from sklearn.metrics import r2_score\n",
        "# def compare_models(model):\n",
        "#     model_name = model.__class__.__name__\n",
        "#     fit=model.fit(train_data,train_labels)\n",
        "#     y_pred=fit.predict(test_data)\n",
        "#     r2=r2_score(test_labels,y_pred)\n",
        "#     return([model_name,r2])"
      ],
      "metadata": {
        "trusted": true,
        "id": "SkDJ6U6DUK5t"
      },
      "execution_count": null,
      "outputs": []
    },
    {
      "cell_type": "code",
      "source": [
        "# from sklearn.ensemble import RandomForestRegressor\n",
        "# from sklearn.ensemble import GradientBoostingRegressor\n",
        "# from sklearn import svm\n",
        "# from sklearn.tree import DecisionTreeRegressor\n",
        "\n",
        "# models = [\n",
        "#     GradientBoostingRegressor(n_estimators=200, max_depth=3, random_state=0),\n",
        "#      RandomForestRegressor(n_estimators=200, max_depth=3, random_state=0),\n",
        "#     svm.SVR(),\n",
        "#    DecisionTreeRegressor()\n",
        "# ]"
      ],
      "metadata": {
        "trusted": true,
        "id": "6Iou5dfjUK5u"
      },
      "execution_count": null,
      "outputs": []
    },
    {
      "cell_type": "code",
      "source": [
        "# model_train=list(map(compare_models,models))"
      ],
      "metadata": {
        "scrolled": true,
        "trusted": true,
        "id": "MRejkxbZUK5u"
      },
      "execution_count": null,
      "outputs": []
    },
    {
      "cell_type": "code",
      "source": [
        "# print(*model_train, sep = \"\\n\")"
      ],
      "metadata": {
        "trusted": true,
        "id": "e8ijYPVBUK5v"
      },
      "execution_count": null,
      "outputs": []
    },
    {
      "cell_type": "markdown",
      "source": [
        "The evaluation metric is set based on **R^2 (coefficient of determination)** regression score function, that will represents the proportion of the variance for items (crops) in the regression model. **R^2** score shows how well terms (data points) fit a curve or line.\n",
        "\n",
        "**R^2** is a statistical measure between 0 and 1 which calculates how similar a regression line is to the data it’s fitted to. If it’s a 1, the model 100% predicts the data variance; if it’s a 0, the model predicts none of the variance.\n",
        "\n",
        "From results viewd above, **Decision Tree Regressor** has the highest R^2 score 0f **96%**, **GradientBoostingRegressor** comes second.\n",
        "\n",
        "\n",
        " I'll also calculate **Adjusted R^2** also indicates how well terms fit a curve or line, but adjusts for the number of terms in a model. If you add more and more useless variables to a model, adjusted r-squared will decrease. If you add more useful variables, adjusted r-squared will increase.\n",
        "Adjusted R2 will always be less than or equal to R2."
      ],
      "metadata": {
        "id": "It10o3tEUK5w"
      }
    },
    {
      "cell_type": "code",
      "source": [
        "yield_df_onehot = yield_df_onehot.drop(['Year'], axis=1)"
      ],
      "metadata": {
        "execution": {
          "iopub.status.busy": "2022-04-18T18:52:40.7329Z",
          "iopub.execute_input": "2022-04-18T18:52:40.733258Z",
          "iopub.status.idle": "2022-04-18T18:52:40.746137Z",
          "shell.execute_reply.started": "2022-04-18T18:52:40.733224Z",
          "shell.execute_reply": "2022-04-18T18:52:40.744259Z"
        },
        "trusted": true,
        "id": "xyK9wqqPUK5x"
      },
      "execution_count": null,
      "outputs": []
    },
    {
      "cell_type": "code",
      "source": [
        "yield_df_onehot.head()"
      ],
      "metadata": {
        "execution": {
          "iopub.status.busy": "2022-04-18T18:52:42.628916Z",
          "iopub.execute_input": "2022-04-18T18:52:42.629262Z",
          "iopub.status.idle": "2022-04-18T18:52:42.653473Z",
          "shell.execute_reply.started": "2022-04-18T18:52:42.629217Z",
          "shell.execute_reply": "2022-04-18T18:52:42.65238Z"
        },
        "trusted": true,
        "id": "bWMqE2t8UK5x"
      },
      "execution_count": null,
      "outputs": []
    },
    {
      "cell_type": "code",
      "source": [
        "#setting test data to columns from dataframe and excluding 'hg/ha_yield' values where ML model should be predicting\n",
        "\n",
        "test_df=pd.DataFrame(test_data,columns=yield_df_onehot.loc[:, yield_df_onehot.columns != 'hg/ha_yield'].columns)\n",
        "\n",
        "# using stack function to return a reshaped DataFrame by pivoting the columns of the current dataframe\n",
        "\n",
        "cntry=test_df[[col for col in test_df.columns if 'Country' in col]].stack()[test_df[[col for col in test_df.columns if 'Country' in col]].stack()>0]\n",
        "cntrylist=list(pd.DataFrame(cntry).index.get_level_values(1))\n",
        "countries=[i.split(\"_\")[1] for i in cntrylist]\n",
        "itm=test_df[[col for col in test_df.columns if 'Item' in col]].stack()[test_df[[col for col in test_df.columns if 'Item' in col]].stack()>0]\n",
        "itmlist=list(pd.DataFrame(itm).index.get_level_values(1))\n",
        "items=[i.split(\"_\")[1] for i in itmlist]"
      ],
      "metadata": {
        "execution": {
          "iopub.status.busy": "2022-04-18T18:52:49.024382Z",
          "iopub.execute_input": "2022-04-18T18:52:49.024717Z",
          "iopub.status.idle": "2022-04-18T18:52:49.159798Z",
          "shell.execute_reply.started": "2022-04-18T18:52:49.024678Z",
          "shell.execute_reply": "2022-04-18T18:52:49.158754Z"
        },
        "trusted": true,
        "id": "eX8Zf1YzUK5y"
      },
      "execution_count": null,
      "outputs": []
    },
    {
      "cell_type": "code",
      "source": [
        "test_df.head()"
      ],
      "metadata": {
        "execution": {
          "iopub.status.busy": "2022-04-18T18:52:52.423408Z",
          "iopub.execute_input": "2022-04-18T18:52:52.423739Z",
          "iopub.status.idle": "2022-04-18T18:52:52.459149Z",
          "shell.execute_reply.started": "2022-04-18T18:52:52.423706Z",
          "shell.execute_reply": "2022-04-18T18:52:52.458215Z"
        },
        "trusted": true,
        "id": "JChAdXKAUK5y"
      },
      "execution_count": null,
      "outputs": []
    },
    {
      "cell_type": "code",
      "source": [
        "test_df.drop([col for col in test_df.columns if 'Item' in col],axis=1,inplace=True)\n",
        "test_df.drop([col for col in test_df.columns if 'Country' in col],axis=1,inplace=True)\n",
        "test_df.head()"
      ],
      "metadata": {
        "execution": {
          "iopub.status.busy": "2022-04-18T18:52:56.082388Z",
          "iopub.execute_input": "2022-04-18T18:52:56.082709Z",
          "iopub.status.idle": "2022-04-18T18:52:56.101Z",
          "shell.execute_reply.started": "2022-04-18T18:52:56.08266Z",
          "shell.execute_reply": "2022-04-18T18:52:56.099901Z"
        },
        "trusted": true,
        "id": "NCcHewiZUK5z"
      },
      "execution_count": null,
      "outputs": []
    },
    {
      "cell_type": "code",
      "source": [
        "test_df['Country']=countries\n",
        "test_df['Item']=items\n",
        "test_df.head()"
      ],
      "metadata": {
        "scrolled": true,
        "execution": {
          "iopub.status.busy": "2022-04-18T18:52:59.766629Z",
          "iopub.execute_input": "2022-04-18T18:52:59.767667Z",
          "iopub.status.idle": "2022-04-18T18:52:59.787685Z",
          "shell.execute_reply.started": "2022-04-18T18:52:59.767606Z",
          "shell.execute_reply": "2022-04-18T18:52:59.786186Z"
        },
        "trusted": true,
        "id": "8WP5j9RmUK5z"
      },
      "execution_count": null,
      "outputs": []
    },
    {
      "cell_type": "code",
      "source": [
        "from sklearn.tree import DecisionTreeRegressor\n",
        "clf=DecisionTreeRegressor()\n",
        "model=clf.fit(train_data,train_labels)\n",
        "\n",
        "test_df[\"yield_predicted\"]= model.predict(test_data)\n",
        "test_df[\"yield_actual\"]=pd.DataFrame(test_labels)[\"hg/ha_yield\"].tolist()\n",
        "test_group=test_df.groupby(\"Item\")\n",
        "# test_group.apply(lambda x: r2_score(x.yield_actual,x.yield_predicted))"
      ],
      "metadata": {
        "scrolled": true,
        "execution": {
          "iopub.status.busy": "2022-04-18T18:53:02.122016Z",
          "iopub.execute_input": "2022-04-18T18:53:02.122375Z",
          "iopub.status.idle": "2022-04-18T18:53:02.639516Z",
          "shell.execute_reply.started": "2022-04-18T18:53:02.122336Z",
          "shell.execute_reply": "2022-04-18T18:53:02.638486Z"
        },
        "trusted": true,
        "id": "ZhFSlEUHUK50"
      },
      "execution_count": null,
      "outputs": []
    },
    {
      "cell_type": "code",
      "source": [
        "# So let's run the model actual values against the predicted ones\n",
        "\n",
        "fig, ax = plt.subplots()\n",
        "\n",
        "ax.scatter(test_df[\"yield_actual\"], test_df[\"yield_predicted\"],edgecolors=(0, 0, 0))\n",
        "\n",
        "ax.set_xlabel('Actual')\n",
        "ax.set_ylabel('Predicted')\n",
        "ax.set_title(\"Actual vs Predicted\")\n",
        "plt.show()"
      ],
      "metadata": {
        "execution": {
          "iopub.status.busy": "2022-04-18T18:53:03.819585Z",
          "iopub.execute_input": "2022-04-18T18:53:03.819923Z",
          "iopub.status.idle": "2022-04-18T18:53:04.064885Z",
          "shell.execute_reply.started": "2022-04-18T18:53:03.819884Z",
          "shell.execute_reply": "2022-04-18T18:53:04.063994Z"
        },
        "trusted": true,
        "id": "Mqf_wamqUK50"
      },
      "execution_count": null,
      "outputs": []
    },
    {
      "cell_type": "markdown",
      "source": [
        "# Model Results & Conclusions\n",
        "\n"
      ],
      "metadata": {
        "id": "EmkyQrsYUK51"
      }
    },
    {
      "cell_type": "code",
      "source": [
        "varimp= {'imp':model.feature_importances_,'names':yield_df_onehot.columns[yield_df_onehot.columns!=\"hg/ha_yield\"]}"
      ],
      "metadata": {
        "execution": {
          "iopub.status.busy": "2022-04-18T18:54:23.099444Z",
          "iopub.execute_input": "2022-04-18T18:54:23.099763Z",
          "iopub.status.idle": "2022-04-18T18:54:23.107755Z",
          "shell.execute_reply.started": "2022-04-18T18:54:23.099734Z",
          "shell.execute_reply": "2022-04-18T18:54:23.106729Z"
        },
        "trusted": true,
        "id": "tYVGx3j6UK51"
      },
      "execution_count": null,
      "outputs": []
    },
    {
      "cell_type": "code",
      "source": [
        "a4_dims = (8.27,16.7)\n",
        "fig, ax = plt.subplots(figsize=a4_dims)\n",
        "df=pd.DataFrame.from_dict(varimp)\n",
        "df.sort_values(ascending=False,by=[\"imp\"],inplace=True)\n",
        "df=df.dropna()\n",
        "sns.barplot(x=\"imp\",y=\"names\",palette=\"vlag\",data=df,orient=\"h\",ax=ax);"
      ],
      "metadata": {
        "execution": {
          "iopub.status.busy": "2022-04-18T18:54:25.254892Z",
          "iopub.execute_input": "2022-04-18T18:54:25.255228Z",
          "iopub.status.idle": "2022-04-18T18:54:27.932927Z",
          "shell.execute_reply.started": "2022-04-18T18:54:25.255184Z",
          "shell.execute_reply": "2022-04-18T18:54:27.931804Z"
        },
        "trusted": true,
        "id": "iA6GyEgzUK51"
      },
      "execution_count": null,
      "outputs": []
    },
    {
      "cell_type": "markdown",
      "source": [
        "Getting only top 7 of features importance in the model:"
      ],
      "metadata": {
        "id": "CERahgNzUK52"
      }
    },
    {
      "cell_type": "code",
      "source": [
        "#7 most important factors that affect crops\n",
        "a4_dims = (16.7, 8.27)\n",
        "\n",
        "fig, ax = plt.subplots(figsize=a4_dims)\n",
        "df=pd.DataFrame.from_dict(varimp)\n",
        "df.sort_values(ascending=False,by=[\"imp\"],inplace=True)\n",
        "df=df.dropna()\n",
        "df=df.nlargest(7, 'imp')\n",
        "sns.barplot(x=\"imp\",y=\"names\",palette=\"vlag\",data=df,orient=\"h\",ax=ax);"
      ],
      "metadata": {
        "execution": {
          "iopub.status.busy": "2022-04-18T18:54:32.603088Z",
          "iopub.execute_input": "2022-04-18T18:54:32.603473Z",
          "iopub.status.idle": "2022-04-18T18:54:32.898232Z",
          "shell.execute_reply.started": "2022-04-18T18:54:32.603432Z",
          "shell.execute_reply": "2022-04-18T18:54:32.897285Z"
        },
        "trusted": true,
        "id": "H88JlF3NUK52"
      },
      "execution_count": null,
      "outputs": []
    },
    {
      "cell_type": "markdown",
      "source": [
        "The crop being potatoes has the highest importance in the decision making for the model, where it's the highest crops in the dataset. Cassava too, then as expected we see the effect of pesticides, where its the third most important feature, and then if the crop is sweet potatoes, we see some of the highest crops in features importance in dataset.\n",
        "\n",
        "If the crop is grown in India, makes sense since Indis has the largest crops sum in the dataset. Then comes rainfall and temprature. Thr first assumption about these features were correct, where they all significanally impact the expected crops yield in the model."
      ],
      "metadata": {
        "id": "3uHcGDRwUK53"
      }
    },
    {
      "cell_type": "code",
      "source": [
        "#Boxplot that shows yield for each item\n",
        "a4_dims = (16.7, 8.27)\n",
        "\n",
        "fig, ax = plt.subplots(figsize=a4_dims)\n",
        "sns.boxplot(x=\"Item\",y=\"hg/ha_yield\",palette=\"vlag\",data=yield_df,ax=ax);"
      ],
      "metadata": {
        "execution": {
          "iopub.status.busy": "2022-04-18T18:54:35.704438Z",
          "iopub.execute_input": "2022-04-18T18:54:35.70478Z",
          "iopub.status.idle": "2022-04-18T18:54:36.175372Z",
          "shell.execute_reply.started": "2022-04-18T18:54:35.704746Z",
          "shell.execute_reply": "2022-04-18T18:54:36.174398Z"
        },
        "trusted": true,
        "id": "-sOae9eGUK54"
      },
      "execution_count": null,
      "outputs": []
    }
  ]
}